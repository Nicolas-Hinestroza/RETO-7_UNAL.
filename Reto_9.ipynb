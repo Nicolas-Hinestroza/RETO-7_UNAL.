{
 "cells": [
  {
   "cell_type": "code",
   "execution_count": 1,
   "metadata": {},
   "outputs": [
    {
     "name": "stdout",
     "output_type": "stream",
     "text": [
      "La cantidad de carne es 128Kg\n"
     ]
    }
   ],
   "source": [
    "# 1.1 De los retos anteriores seleciones 3 funciones y escribalas en forma de lambdas.\n",
    "\n",
    "if __name__ == \"__main__\": # Llamamos la funcion principal\n",
    "    N = int(input(\"Escriba la cantidad de gallinas: \")) # Primero vamos a definir N como la variable que el programa va a leer\n",
    "    M = int(input(\"Escriba la cantidad de gallos: \")) # Primero vamos a definir M como la variable que el programa va a leer\n",
    "    K = int(input(\"Escriba la cantidad de pollitos: \")) # Primero vamos a definir K como la variable que el programa va a leer\n",
    "    peso_carne = lambda N, M, K : (N * 6) + (M * 7) + (K * 1) # Definimos la variable peso_carne con la funcion lambda con las variables N, M y K\n",
    "    peso = peso_carne(N, M, K)# Definimos peso igual a peso_carne de las variables N, M y K\n",
    "    print (\"La cantidad de carne es \" + str(peso) + \"Kg\") # Imprimimos  el resultado de la funcion lambda es decir imprimimos el peso total"
   ]
  },
  {
   "cell_type": "code",
   "execution_count": 36,
   "metadata": {},
   "outputs": [
    {
     "name": "stdout",
     "output_type": "stream",
     "text": [
      "El volumen de toda la figura es: 2680.82573106329\n",
      "El area de toda la figura es: 1206.3715789784806\n"
     ]
    }
   ],
   "source": [
    "# 1.2 De los retos anteriores seleciones 3 funciones y escribalas en forma de lambdas.\n",
    "\n",
    "import math #Importamos la libreria que vamos a usar\n",
    "\n",
    "if __name__== \"__main__\": # Llamamos la funcion principal\n",
    "    r1 = float(input(\"Escribe el valor del primer radio \")) # Primero vamos a definir r1 como la variable que el programa va a leer\n",
    "    r2 = float(input(\"Escriba el valor del segundo radio \")) # Primero vamos a definir r2 como la variable que el programa va a leer\n",
    "    h = float(input(\"Escriba el valor de la altura \")) # Primero vamos a definir h como la variable que el programa va a leer\n",
    "    volumen_figura = lambda r1, r2, h : ((4/3) * math.pi * (r1)**3) + ((1/3) * h * math.pi * (r2)**2) # Definimos la variable volumen_figura con la funcion lambda con las variables r1, r2 y h\n",
    "    area_figura = lambda r1, r2, h : (4 * math.pi * (r1)**2) + (math.pi * (h * r2) + math.pi * (r2)**2) # Definimos la variable area_figura con la funcion lambda con las variables r1, r2 y h\n",
    "    volumen = volumen_figura (r1, r2, h) # Definimos volumen igual a volumen_figura de las variables r1, r2 y h\n",
    "    area = area_figura (r1, r2, h) # Definimos area igual a area_figura de las variables r1, r2 y h\n",
    "    print(\"El volumen de toda la figura es: \" + str(volumen)) # Imprimimos  el resultado de la funcion lambda es decir imprimimos el volumen de la figura\n",
    "    print(\"El area de toda la figura es: \" + str(area)) # Imprimimos  el resultado de la funcion lambda es decir imprimimos el area de la figura"
   ]
  },
  {
   "cell_type": "code",
   "execution_count": 37,
   "metadata": {},
   "outputs": [
    {
     "name": "stdout",
     "output_type": "stream",
     "text": [
      "El numero de contagiados despues de 6 dias es de 256\n"
     ]
    }
   ],
   "source": [
    "# 1.3 De los retos anteriores seleciones 3 funciones y escribalas en forma de lambdas.\n",
    "\n",
    "if __name__ == \"__main__\":  # Llamamos la funcion principal\n",
    "   C = int(input(\"Escriba la cantidad de contagiados actuales: \")) # Primero vamos a definir C como la variable que el programa va a leer\n",
    "   D = int(input(\"Escriba la cantidad de dias transcurridos: \")) # Primero vamos a definir D como la variable que el programa va a leer\n",
    "   Contagiados = lambda C, D : C * (2**D) # Definimos contagiados como una funcion lambda nos devuelve a C multiplicado por 2 elevado a la D\n",
    "   Co = Contagiados (C, D) # Definimos Co igual a Contagiados de las variables C y D\n",
    "   print (\"El numero de contagiados despues de\", D, \"dias es de \" + str(Co)) # Imprimimos  el resultado de la funcion lambda"
   ]
  },
  {
   "cell_type": "code",
   "execution_count": 30,
   "metadata": {},
   "outputs": [
    {
     "name": "stdout",
     "output_type": "stream",
     "text": [
      "El factorial del valor 5 es: 120\n"
     ]
    }
   ],
   "source": [
    "# 2.1 De los retos anteriores seleciones 3 funciones y escribalas con argumentos no definidos (*args).\n",
    "\n",
    "def factorial(*args): # Definimos la funcion factorial con args\n",
    "    for y in args: # Para y en un rango de args\n",
    "        print(y) # Imprimimos y\n",
    "        return y # Nos develve el resultado de y\n",
    "def factorial2(y): # Definimos la funcion factorial2 con args  \n",
    "    x = 1 # Definimos la variable x = 1\n",
    "    for z in range(1,y+1): # Para z en un rango de 1 hasta y + 1\n",
    "        x *= z # Definimos la variable z como x multiplicado a la z\n",
    "        z -= 1 # Definimos z como z menos 1\n",
    "    return x # Nos devuelve el resultado de x\n",
    "\n",
    "if __name__ == \"__main__\":  # Lamamos la Funcion principal\n",
    "    n = int(input(\"Escribe un valor: \")) # Primero vamos a definir n como la variable que el programa va a leer\n",
    "    print(\"El factorial del valor \" + str(n) + \" es: \" + str(factorial2(n))) # cuando se complete el proceso se imprimira el numero digitado (n) y el factorial (f)"
   ]
  },
  {
   "cell_type": "code",
   "execution_count": 38,
   "metadata": {},
   "outputs": [
    {
     "name": "stdout",
     "output_type": "stream",
     "text": [
      "Los numeros que escribiste son 1 2 3 4 5\n",
      "El promedio de los numeros que escribiste es: 3\n"
     ]
    }
   ],
   "source": [
    "# 2.2 De los retos anteriores seleciones 3 funciones y escribalas con argumentos no definidos (*args).\n",
    "\n",
    "def Promedio(*args): # Definimos la funcion promedio con args\n",
    "  z = 0 # Definimos la variable z = 0\n",
    "  for n in args: # Para n en args\n",
    "    z +=  n # Definimos a z como la suma de z \n",
    "  z = z // 5 # Definimos a z como la division de los valores que ya venian anteriormente y 5\n",
    "  return z # Nos devuelve el resultado de z\n",
    "\n",
    "if __name__ == \"__main__\": # Llamamos la funcion principal \n",
    "  a = int(input(\"Ingrese numero a: \")) # Definimos a como la variable que recibimos\n",
    "  b = int(input(\"Ingrese numero b: \")) # Definimos b como la variable que recibimos\n",
    "  c = int(input(\"Ingrese numero c: \")) # Definimos c como la variable que recibimos\n",
    "  d = int(input(\"Ingrese numero d: \")) # Definimos d como la variable que recibimos\n",
    "  e = int(input(\"Ingrese numero e: \")) # Definimos e como la variable que recibimos\n",
    "  print(\"Los numeros que escribiste son\", a, b, c, d, e) #Imprimimos todas las variables\n",
    "  print(\"El promedio de los numeros que escribiste es: \" + str(Promedio(a, b, c, d, e))) # Imprimimos el resultado  "
   ]
  },
  {
   "cell_type": "code",
   "execution_count": 35,
   "metadata": {},
   "outputs": [
    {
     "name": "stdout",
     "output_type": "stream",
     "text": [
      "2 al elevarlo a la potencia 4 es igual a: 16\n"
     ]
    }
   ],
   "source": [
    "# 2.3 De los retos anteriores seleciones 3 funciones y escribalas con argumentos no definidos (*args). \n",
    "\n",
    "def potencia(*args): # Definimos la funcion potencia con args\n",
    "    a = 1 # Definimos la variable a = 1\n",
    "    for i in args: # Para i en args\n",
    "        a = 2 ** i # a es igual a 2 elevado i\n",
    "        return a # Nos devuelve el resultado de la potencia\n",
    "\n",
    "if __name__ == \"__main__\": # Llamamos la funcion principal \n",
    "    n = int(input(\"Escribe un valor: \")) # Definimos n como la variable que recibimos\n",
    "    print(\"2 al elevarlo a la potencia \" + str(n) + \" es igual a: \" + str(potencia(n))) # Imprimimos el resultado  "
   ]
  },
  {
   "cell_type": "code",
   "execution_count": 37,
   "metadata": {},
   "outputs": [
    {
     "name": "stdout",
     "output_type": "stream",
     "text": [
      "5 al elevarlo por 3 es igual a: 125\n"
     ]
    }
   ],
   "source": [
    "# 3. scriba una función recursiva para calcular la operación de la potencia.\n",
    "\n",
    "def potenciarecursivo(a, b): # Definimos la funcion potenciarecursivo para las variables a y b \n",
    "    if b == 0: # Si b == 0 entonces\n",
    "        return 1 # Nos devuelve 1 ya que todo numero elevado 0 da 1\n",
    "    elif a == 0: # Si a == 0 entonces\n",
    "        return 0 # Nos devuelve 0 ya que 0 elevado a cualquier numero da 0\n",
    "    if b == 1: # Si b == 1 entonces\n",
    "        return a # Nos devuelve 1 ya que cualquier numero elevado 1 es igual al numero \n",
    "    else: # Si no se cumple cualquiera de las anteriores entonces\n",
    "        return a * potenciarecursivo(a, b-1) # Nos devuelve a elevado al pontenciarecursivo de a y b - 1\n",
    "    \n",
    "if __name__ == \"__main__\": # Llamamos la funcion principal  \n",
    "    a = int(input(\"Escribe un valor real : \")) # Definimos a a como la variable que recibimos\n",
    "    b = int(input(\"Escribe un valor real para que sea una potencia: \")) # Definimos a b como la variable que recibimos\n",
    "    print(str(a) + \" al elevarlo por \" + str(b) + \" es igual a: \" + str(potenciarecursivo(a, b))) # Imprimimos el resultado  "
   ]
  },
  {
   "cell_type": "code",
   "execution_count": 30,
   "metadata": {},
   "outputs": [
    {
     "name": "stdout",
     "output_type": "stream",
     "text": [
      "La serie de Fibonacci hasta el numero 234 es 5789092068864820527338372482892113982249794889765\n",
      "Fibonacci calculado de forma iterativa tardo:  0.0\n"
     ]
    }
   ],
   "source": [
    "# 4. Realice pruebas para calcular fibonacci con iteración o con recursión. Determine desde que número de la serie la diferencia de tiempo se vuelve significativa. \n",
    "\n",
    "import time  #Importamos la libreria que vamos a usar\n",
    "\n",
    "def Fibo(n): # Definimos la funcion fibo con la variable n\n",
    "  i = 1 # Definimos la variable 1 = 1 \n",
    "  a = 0 # Definimos la variable a = 0 \n",
    "  b = 1 # Definimos la variable b = 1 \n",
    "  while(i <= n): # mientras que i sea menor o igual que n haga\n",
    "    sumFibo = a + b # DEfinimos la variable sumFibo que seria el resultado de a + b\n",
    "    a = b # a quedaria valiendo b\n",
    "    b = sumFibo # y b quedaria valiendo sumFibo\n",
    "    i += 1 # le sumamos uno a i para que la serie de fibo se calcule hasta n\n",
    "  return sumFibo # Nos devuelve el resultado de sumFibo\n",
    "\n",
    "if __name__ == \"__main__\":  # Llamamos la Función principal\n",
    "  n = int(input(\"Escribe un valor: \")) # Definimos n como la variable que recibimos\n",
    "  start_time1 = time.time() # Utilizamos las formulas brindadas para calcular el tiempo de la serie\n",
    "  end_time1 = time.time() # Utilizamos las formulas brindadas para calcular el tiempo de la serie\n",
    "  timer1 = end_time1 - start_time1 # Definimos la varable timer 1\n",
    "  print(\"La serie de Fibonacci hasta el numero \" + str(n) + \" es \" + str(Fibo(n))) # Imprimimos el resultado de la serie de fibo\n",
    "  print(\"Fibonacci calculado de forma iterativa tardo: \", timer1) # Imprimimos el tiempo que tarda en calcular la serie"
   ]
  }
 ],
 "metadata": {
  "kernelspec": {
   "display_name": "Python 3",
   "language": "python",
   "name": "python3"
  },
  "language_info": {
   "codemirror_mode": {
    "name": "ipython",
    "version": 3
   },
   "file_extension": ".py",
   "mimetype": "text/x-python",
   "name": "python",
   "nbconvert_exporter": "python",
   "pygments_lexer": "ipython3",
   "version": "3.11.2"
  },
  "orig_nbformat": 4
 },
 "nbformat": 4,
 "nbformat_minor": 2
}
